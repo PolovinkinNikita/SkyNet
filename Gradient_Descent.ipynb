{
  "nbformat": 4,
  "nbformat_minor": 0,
  "metadata": {
    "colab": {
      "name": "Gradient Descent.ipynb",
      "provenance": [],
      "authorship_tag": "ABX9TyOwJW/st/dl4zFEYNQBi7OK",
      "include_colab_link": true
    },
    "kernelspec": {
      "name": "python3",
      "display_name": "Python 3"
    },
    "language_info": {
      "name": "python"
    }
  },
  "cells": [
    {
      "cell_type": "markdown",
      "metadata": {
        "id": "view-in-github",
        "colab_type": "text"
      },
      "source": [
        "<a href=\"https://colab.research.google.com/github/PolovinkinNikita/SkyNet/blob/main/Gradient_Descent.ipynb\" target=\"_parent\"><img src=\"https://colab.research.google.com/assets/colab-badge.svg\" alt=\"Open In Colab\"/></a>"
      ]
    },
    {
      "cell_type": "code",
      "execution_count": 250,
      "metadata": {
        "id": "Rm_DzTK4q8mG"
      },
      "outputs": [],
      "source": [
        "from numpy import asarray\n",
        "from numpy import arange\n",
        "from numpy.random import rand\n",
        "import numpy as np\n",
        "import matplotlib.pyplot as plt"
      ]
    },
    {
      "cell_type": "code",
      "source": [
        "def objective(x):\n",
        "  return x**2.0\n",
        "\n",
        "\n",
        "def derivative(x):\n",
        "  return x * 2.0"
      ],
      "metadata": {
        "id": "yRD5GNRivy-V"
      },
      "execution_count": 251,
      "outputs": []
    },
    {
      "cell_type": "code",
      "source": [
        "bounds = np.array([[-15.0, 15.0]])"
      ],
      "metadata": {
        "id": "NtkLxdRTwDOe"
      },
      "execution_count": 252,
      "outputs": []
    },
    {
      "cell_type": "code",
      "source": [
        "inputs = []\n",
        "outputs = []"
      ],
      "metadata": {
        "id": "C6Hruchhwqre"
      },
      "execution_count": 253,
      "outputs": []
    },
    {
      "cell_type": "code",
      "source": [
        "for i in range(1000):\n",
        "  x = bounds[:, 0] + rand(len(bounds)) * (bounds[:, 1] - bounds[:, 0])\n",
        "  y = objective(x)\n",
        "  inputs.append(x)\n",
        "  outputs.append(y)"
      ],
      "metadata": {
        "id": "eh05uoUHw03f"
      },
      "execution_count": 254,
      "outputs": []
    },
    {
      "cell_type": "code",
      "source": [
        "solutions = []\n",
        "evaluations = []"
      ],
      "metadata": {
        "id": "3wGspP981KoR"
      },
      "execution_count": 255,
      "outputs": []
    },
    {
      "cell_type": "code",
      "source": [
        "for i in range(1, 50):\n",
        "  x_evaluation = objective(x)\n",
        "  if x_evaluation >= 0.0000099 :\n",
        "    solutions.append(x)\n",
        "    evaluations.append(x_evaluation)\n",
        "\n",
        "    gradient = derivative(x)\n",
        "    new_x = x - 0.1 * gradient\n",
        "    x = new_x\n",
        "    print('>%d f(%s) = %.5f' % (i, x, x_evaluation))\n",
        "  else:\n",
        "    break\n",
        "\n",
        "plt.scatter(inputs, outputs)\n",
        "\n",
        "plt.scatter(solutions, evaluations, color = 'red')"
      ],
      "metadata": {
        "colab": {
          "base_uri": "https://localhost:8080/",
          "height": 942
        },
        "id": "aJhYMHN_jIi8",
        "outputId": "5e85a812-b608-4a5a-c9cf-1f5d03ed4a8e"
      },
      "execution_count": 256,
      "outputs": [
        {
          "output_type": "stream",
          "name": "stdout",
          "text": [
            ">1 f([9.7439997]) = 148.35239\n",
            ">2 f([7.79519976]) = 94.94553\n",
            ">3 f([6.23615981]) = 60.76514\n",
            ">4 f([4.98892785]) = 38.88969\n",
            ">5 f([3.99114228]) = 24.88940\n",
            ">6 f([3.19291382]) = 15.92922\n",
            ">7 f([2.55433106]) = 10.19470\n",
            ">8 f([2.04346485]) = 6.52461\n",
            ">9 f([1.63477188]) = 4.17575\n",
            ">10 f([1.3078175]) = 2.67248\n",
            ">11 f([1.046254]) = 1.71039\n",
            ">12 f([0.8370032]) = 1.09465\n",
            ">13 f([0.66960256]) = 0.70057\n",
            ">14 f([0.53568205]) = 0.44837\n",
            ">15 f([0.42854564]) = 0.28696\n",
            ">16 f([0.34283651]) = 0.18365\n",
            ">17 f([0.27426921]) = 0.11754\n",
            ">18 f([0.21941537]) = 0.07522\n",
            ">19 f([0.17553229]) = 0.04814\n",
            ">20 f([0.14042583]) = 0.03081\n",
            ">21 f([0.11234067]) = 0.01972\n",
            ">22 f([0.08987253]) = 0.01262\n",
            ">23 f([0.07189803]) = 0.00808\n",
            ">24 f([0.05751842]) = 0.00517\n",
            ">25 f([0.04601474]) = 0.00331\n",
            ">26 f([0.03681179]) = 0.00212\n",
            ">27 f([0.02944943]) = 0.00136\n",
            ">28 f([0.02355955]) = 0.00087\n",
            ">29 f([0.01884764]) = 0.00056\n",
            ">30 f([0.01507811]) = 0.00036\n",
            ">31 f([0.01206249]) = 0.00023\n",
            ">32 f([0.00964999]) = 0.00015\n",
            ">33 f([0.00771999]) = 0.00009\n",
            ">34 f([0.00617599]) = 0.00006\n",
            ">35 f([0.00494079]) = 0.00004\n",
            ">36 f([0.00395264]) = 0.00002\n",
            ">37 f([0.00316211]) = 0.00002\n",
            ">38 f([0.00252969]) = 0.00001\n"
          ]
        },
        {
          "output_type": "execute_result",
          "data": {
            "text/plain": [
              "<matplotlib.collections.PathCollection at 0x7f90bbdb5490>"
            ]
          },
          "metadata": {},
          "execution_count": 256
        },
        {
          "output_type": "display_data",
          "data": {
            "image/png": "[encoded data removed]",
            "text/plain": [
              "<Figure size 432x288 with 1 Axes>"
            ]
          },
          "metadata": {
            "needs_background": "light"
          }
        }
      ]
    }
  ]
}